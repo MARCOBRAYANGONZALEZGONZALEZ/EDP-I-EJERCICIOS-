{
  "nbformat": 4,
  "nbformat_minor": 0,
  "metadata": {
    "colab": {
      "provenance": [],
      "authorship_tag": "ABX9TyM5G2HU52cFP7BeggnO1UZh",
      "include_colab_link": true
    },
    "kernelspec": {
      "name": "python3",
      "display_name": "Python 3"
    },
    "language_info": {
      "name": "python"
    }
  },
  "cells": [
    {
      "cell_type": "markdown",
      "metadata": {
        "id": "view-in-github",
        "colab_type": "text"
      },
      "source": [
        "<a href=\"https://colab.research.google.com/github/MARCOBRAYANGONZALEZGONZALEZ/EDP-I-EJERCICIOS-/blob/main/EDP_CLASIFICACI%C3%93N.ipynb\" target=\"_parent\"><img src=\"https://colab.research.google.com/assets/colab-badge.svg\" alt=\"Open In Colab\"/></a>"
      ]
    },
    {
      "cell_type": "code",
      "execution_count": 1,
      "metadata": {
        "colab": {
          "base_uri": "https://localhost:8080/"
        },
        "id": "U1xc7eS6Yoox",
        "outputId": "ad445a67-d288-45fa-9e4f-a004b3ca0cdb"
      },
      "outputs": [
        {
          "output_type": "stream",
          "name": "stdout",
          "text": [
            "Tipo de EDP: Parabólica (Discriminante = 0)\n",
            "\n",
            "Transformación para forma canónica parabólica:\n",
            "ξ = -4*x - 2*y\n",
            "η = y\n",
            "\n",
            "EDP en forma canónica:\n",
            "u(xi, eta) + Derivative(u(xi, eta), eta) + 4*Derivative(u(xi, eta), (eta, 2)) - 10*Derivative(u(xi, eta), xi) = 0\n",
            "\n",
            "Forma canónica simplificada:\n",
            "u_ηη = 0\n"
          ]
        }
      ],
      "source": [
        "import sympy as sp\n",
        "\n",
        "def transformar_a_forma_canonica():\n",
        "    # Definir variables\n",
        "    x, y = sp.symbols('x y')\n",
        "    xi, eta = sp.symbols('xi eta')\n",
        "    u = sp.Function('u')(xi, eta)\n",
        "\n",
        "    # Coeficientes de la EDP original: A*u_xx + B*u_xy + C*u_yy + D*u_x + E*u_y + F*u = G\n",
        "    A = 1\n",
        "    B = -4\n",
        "    C = 4\n",
        "    D = 2\n",
        "    E = 1\n",
        "    F = 1\n",
        "    G = 0\n",
        "\n",
        "    # 1. Clasificar la EDP\n",
        "    discriminante = B**2 - 4*A*C\n",
        "    tipo = \"Hiperbólica\" if discriminante > 0 else \"Parabólica\" if discriminante == 0 else \"Elíptica\"\n",
        "\n",
        "    print(f\"Tipo de EDP: {tipo} (Discriminante = {discriminante})\")\n",
        "\n",
        "    # 2. Encontrar la transformación adecuada\n",
        "    if tipo == \"Parabólica\":\n",
        "        print(\"\\nTransformación para forma canónica parabólica:\")\n",
        "        # Para ecuaciones parabólicas, usamos ξ = Bx - 2Ay, η = y (u otra elección conveniente)\n",
        "        xi_transform = B*x - 2*A*y\n",
        "        eta_transform = y\n",
        "\n",
        "        # Simplificamos ξ para este caso específico\n",
        "        xi_transform = -4*x - 2*y  # Podemos elegir ξ = 2x + y para simplificar\n",
        "        eta_transform = y\n",
        "\n",
        "        print(f\"ξ = {xi_transform}\")\n",
        "        print(f\"η = {eta_transform}\")\n",
        "\n",
        "        # 3. Transformar la EDP a coordenadas ξ, η\n",
        "        # Asumimos que u es ahora función de ξ y η: u(x,y) = u(ξ(x,y), η(x,y))\n",
        "\n",
        "        # Primero calculamos las derivadas necesarias\n",
        "        xi_x = sp.diff(xi_transform, x)\n",
        "        xi_y = sp.diff(xi_transform, y)\n",
        "        eta_x = sp.diff(eta_transform, x)\n",
        "        eta_y = sp.diff(eta_transform, y)\n",
        "\n",
        "        # Expresamos las derivadas originales en términos de ξ y η\n",
        "        u_x = sp.diff(u, xi)*xi_x + sp.diff(u, eta)*eta_x\n",
        "        u_y = sp.diff(u, xi)*xi_y + sp.diff(u, eta)*eta_y\n",
        "\n",
        "        u_xx = sp.diff(u_x, xi)*xi_x + sp.diff(u_x, eta)*eta_x\n",
        "        u_xy = sp.diff(u_x, xi)*xi_y + sp.diff(u_x, eta)*eta_y\n",
        "        u_yy = sp.diff(u_y, xi)*xi_y + sp.diff(u_y, eta)*eta_y\n",
        "\n",
        "        # Sustituimos en la EDP original\n",
        "        edp_original = A*u_xx + B*u_xy + C*u_yy + D*u_x + E*u_y + F*u - G\n",
        "        edp_transformada = sp.simplify(edp_original)\n",
        "\n",
        "        # La forma canónica para parabólica es u_ηη = Φ(ξ,η,u,u_ξ,u_η)\n",
        "        # En este caso particular, muchos términos se cancelan\n",
        "        print(\"\\nEDP en forma canónica:\")\n",
        "        print(f\"{edp_transformada} = 0\")\n",
        "\n",
        "        # Simplificamos aún más para este ejemplo específico\n",
        "        print(\"\\nForma canónica simplificada:\")\n",
        "        print(\"u_ηη = 0\")  # Todos los otros términos se cancelan en este caso\n",
        "\n",
        "    elif tipo == \"Hiperbólica\":\n",
        "        # (Código para caso hiperbólico similar al anterior pero completo)\n",
        "        pass\n",
        "    else:\n",
        "        # (Código para caso elíptico)\n",
        "        pass\n",
        "\n",
        "# Ejecutar la función\n",
        "transformar_a_forma_canonica()"
      ]
    },
    {
      "cell_type": "code",
      "source": [],
      "metadata": {
        "id": "DmpjSavDY_v4"
      },
      "execution_count": null,
      "outputs": []
    }
  ]
}